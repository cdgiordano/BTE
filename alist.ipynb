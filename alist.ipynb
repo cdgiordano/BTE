{
  "nbformat": 4,
  "nbformat_minor": 0,
  "metadata": {
    "colab": {
      "provenance": [],
      "authorship_tag": "ABX9TyMfj8FCmWfl442cw01eoXSR",
      "include_colab_link": true
    },
    "kernelspec": {
      "name": "python3",
      "display_name": "Python 3"
    },
    "language_info": {
      "name": "python"
    }
  },
  "cells": [
    {
      "cell_type": "markdown",
      "metadata": {
        "id": "view-in-github",
        "colab_type": "text"
      },
      "source": [
        "<a href=\"https://colab.research.google.com/github/cdgiordano/BTE/blob/main/alist.ipynb\" target=\"_parent\"><img src=\"https://colab.research.google.com/assets/colab-badge.svg\" alt=\"Open In Colab\"/></a>"
      ]
    },
    {
      "cell_type": "code",
      "execution_count": 2,
      "metadata": {
        "colab": {
          "base_uri": "https://localhost:8080/"
        },
        "id": "jK9YPTCD1u_A",
        "outputId": "10da1d3d-7757-4ebc-828d-05a88bc2880a"
      },
      "outputs": [
        {
          "output_type": "stream",
          "name": "stdout",
          "text": [
            "[1, 3, 5, 7, 9]\n"
          ]
        }
      ],
      "source": [
        "aList = []\n",
        "\n",
        "for i in range(10):\n",
        "  aList.append(i)\n",
        "  if i%2 == 0:\n",
        "    aList.pop()\n",
        "\n",
        "print(aList)"
      ]
    },
    {
      "cell_type": "code",
      "source": [
        "def fill(l):\n",
        "  for i in range(10):\n",
        "    l.append(i)\n",
        "    if i%2 == 0:\n",
        "      l.pop()\n",
        "    print(l)"
      ],
      "metadata": {
        "id": "NZj0QJns2A1n"
      },
      "execution_count": 6,
      "outputs": []
    },
    {
      "cell_type": "code",
      "source": [
        "def greeting(n):\n",
        "  print(f'Hello {n}!')\n",
        "\n",
        "name = input('Enter name: ')\n",
        "greeting(name)"
      ],
      "metadata": {
        "colab": {
          "base_uri": "https://localhost:8080/"
        },
        "id": "wkiCxZOv5A0_",
        "outputId": "b816ba88-a1ec-4b44-96f5-bd867d1757cf"
      },
      "execution_count": 7,
      "outputs": [
        {
          "output_type": "stream",
          "name": "stdout",
          "text": [
            "Enter name: Yo\n",
            "Hello Yo!\n"
          ]
        }
      ]
    }
  ]
}