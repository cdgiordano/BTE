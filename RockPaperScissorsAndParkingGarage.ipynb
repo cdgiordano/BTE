{
  "nbformat": 4,
  "nbformat_minor": 0,
  "metadata": {
    "colab": {
      "provenance": [],
      "authorship_tag": "ABX9TyNcWDqpl9jFJeTOY4WWW713",
      "include_colab_link": true
    },
    "kernelspec": {
      "name": "python3",
      "display_name": "Python 3"
    },
    "language_info": {
      "name": "python"
    }
  },
  "cells": [
    {
      "cell_type": "markdown",
      "metadata": {
        "id": "view-in-github",
        "colab_type": "text"
      },
      "source": [
        "<a href=\"https://colab.research.google.com/github/cdgiordano/BTE/blob/main/RockPaperScissorsAndParkingGarage.ipynb\" target=\"_parent\"><img src=\"https://colab.research.google.com/assets/colab-badge.svg\" alt=\"Open In Colab\"/></a>"
      ]
    },
    {
      "cell_type": "code",
      "source": [
        "for x in range(1, 9):\n",
        "  fee = 5 + 2.5 * x\n",
        "  if fee <= 10:\n",
        "      fee = 10\n",
        "  elif fee >= 20:\n",
        "    fee = 20\n",
        "  print(x, fee)"
      ],
      "metadata": {
        "colab": {
          "base_uri": "https://localhost:8080/"
        },
        "id": "RaomlwbMHQTr",
        "outputId": "379a856a-3099-44e9-c06e-d257aa9cdc54"
      },
      "execution_count": null,
      "outputs": [
        {
          "output_type": "stream",
          "name": "stdout",
          "text": [
            "1 10\n",
            "2 10\n",
            "3 12.5\n",
            "4 15.0\n",
            "5 17.5\n",
            "6 20\n",
            "7 20\n",
            "8 20\n"
          ]
        }
      ]
    },
    {
      "cell_type": "code",
      "source": [
        "userinput = input('Start? (y: yes n: no)')\n",
        "while userinput == \"y\":\n",
        "  import random\n",
        "  user_choice = input(\"Enter your choice (rock, paper, or scissors): \")\n",
        "  computer_choice = random.choice([\"rock\", \"paper\", \"scissors\"])\n",
        "\n",
        "  print(f\"You chose: {user_choice}\")\n",
        "  print(f\"Computer chose: {computer_choice}\")\n",
        "\n",
        "  if user_choice == computer_choice:\n",
        "    print(\"It's a tie!\")\n",
        "  elif (\n",
        "    (user_choice == \"rock\" and computer_choice == \"scissors\") or\n",
        "    (user_choice == \"paper\" and computer_choice == \"rock\") or\n",
        "    (user_choice == \"scissors\" and computer_choice == \"paper\")\n",
        "):\n",
        "    print(\"You win!\")\n",
        "else:\n",
        "    print(\"Computer wins!\")\n"
      ],
      "metadata": {
        "id": "1XYbFeoRb-9q"
      },
      "execution_count": null,
      "outputs": []
    },
    {
      "cell_type": "code",
      "source": [
        "userinput = input(\"\")"
      ],
      "metadata": {
        "id": "PsrEzGXSbOFy"
      },
      "execution_count": null,
      "outputs": []
    },
    {
      "cell_type": "code",
      "execution_count": null,
      "metadata": {
        "colab": {
          "base_uri": "https://localhost:8080/"
        },
        "id": "c2j6ZScVGtIc",
        "outputId": "b7007fe9-2877-4dc8-f5e8-1253ed008ed4"
      },
      "outputs": [
        {
          "output_type": "stream",
          "name": "stdout",
          "text": [
            "Hours Parked | Fee\n",
            "-------------------\n",
            "    1       |  $10.00\n",
            "    2       |  $10.00\n",
            "    3       |  $12.50\n",
            "    4       |  $15.00\n",
            "    5       |  $17.50\n",
            "    6       |  $20.00\n",
            "    7       |  $20.00\n",
            "    8       |  $20.00\n"
          ]
        }
      ],
      "source": [
        "def calculate_fee(hours):\n",
        "    base_fee = 5\n",
        "    hourly_rate = 2.50\n",
        "    minimum_fee = 10\n",
        "    maximum_fee = 20\n",
        "\n",
        "    fee = base_fee + hourly_rate * hours\n",
        "    return min(maximum_fee, max(minimum_fee, fee))\n",
        "\n",
        "def generate_table():\n",
        "    print(\"Hours Parked | Fee\")\n",
        "    print(\"-------------------\")\n",
        "    for hours in range(1, 9):\n",
        "        fee = calculate_fee(hours)\n",
        "        print(f\"    {hours}       |  ${fee:.2f}\")\n",
        "\n",
        "generate_table()"
      ]
    }
  ]
}