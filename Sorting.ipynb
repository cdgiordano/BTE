{
  "nbformat": 4,
  "nbformat_minor": 0,
  "metadata": {
    "colab": {
      "provenance": [],
      "authorship_tag": "ABX9TyP2UvrvgGBRWld0Ab7980Sw",
      "include_colab_link": true
    },
    "kernelspec": {
      "name": "python3",
      "display_name": "Python 3"
    },
    "language_info": {
      "name": "python"
    }
  },
  "cells": [
    {
      "cell_type": "markdown",
      "metadata": {
        "id": "view-in-github",
        "colab_type": "text"
      },
      "source": [
        "<a href=\"https://colab.research.google.com/github/cdgiordano/BTE/blob/main/Sorting.ipynb\" target=\"_parent\"><img src=\"https://colab.research.google.com/assets/colab-badge.svg\" alt=\"Open In Colab\"/></a>"
      ]
    },
    {
      "cell_type": "code",
      "execution_count": null,
      "metadata": {
        "colab": {
          "base_uri": "https://localhost:8080/"
        },
        "id": "XOPpIKez_bvt",
        "outputId": "ac5764de-a19e-41c4-c8be-195953378466"
      },
      "outputs": [
        {
          "output_type": "execute_result",
          "data": {
            "text/plain": [
              "[1, 2, 3, 4, 6, 6, 7, 8]"
            ]
          },
          "metadata": {},
          "execution_count": 1
        }
      ],
      "source": [
        "def quickSort(alist):\n",
        "  if len(alist) < 2:\n",
        "    return alist\n",
        "  else:\n",
        "    less, equal, larger = [], [], []\n",
        "\n",
        "    pivotIndex = len(alist) // 2\n",
        "\n",
        "    for item in alist:\n",
        "      if item < alist[pivotIndex]:\n",
        "        less.append(item)\n",
        "      elif item == alist[pivotIndex]:\n",
        "        equal.append(item)\n",
        "      else:\n",
        "        larger.append(item)\n",
        "\n",
        "    return quickSort(less) + equal + quickSort(larger)\n",
        "\n",
        "quickSort([8,2,3,4,6,1,6,7])\n",
        "\n"
      ]
    },
    {
      "cell_type": "code",
      "source": [
        "[1,2,3] + [4,5,6]"
      ],
      "metadata": {
        "colab": {
          "base_uri": "https://localhost:8080/"
        },
        "id": "562Of2ZeAO_a",
        "outputId": "45cba74d-2411-446b-dfd9-b5f846ea44fa"
      },
      "execution_count": null,
      "outputs": [
        {
          "output_type": "stream",
          "name": "stdout",
          "text": [
            "0.6666666666666666\n"
          ]
        }
      ]
    },
    {
      "cell_type": "code",
      "source": [
        "try:\n",
        "  a = float(input('Enter a numerator: '))\n",
        "  b = float(input('Enter a denominator: '))\n",
        "  print(a/b)\n",
        "  print('Division complete!')\n",
        "except ZeroDivisionError:\n",
        "  print('Input cannot be casted as float')\n",
        "except ValueError:\n",
        "  print('Input cannot be casted as float!')\n",
        "except TypeError:\n",
        "  print('Invalid input!')\n",
        "except:\n",
        "  print('Unknown error!')\n",
        "\n",
        "print('Program ends.')"
      ],
      "metadata": {
        "colab": {
          "base_uri": "https://localhost:8080/"
        },
        "id": "7ZdC4mf5Curh",
        "outputId": "9f5a714d-fee1-4a4c-eb77-8e3a9b3f2317"
      },
      "execution_count": null,
      "outputs": [
        {
          "output_type": "stream",
          "name": "stdout",
          "text": [
            "Enter a numerator: abc\n",
            "Input cannot be casted as float!\n",
            "Program ends.\n"
          ]
        }
      ]
    },
    {
      "cell_type": "code",
      "source": [
        "l = [1,3,5,7,9]\n",
        "\n",
        "try:\n",
        "  idx = int(input('Enter an index: '))\n",
        "  print(l[idx])\n",
        "except IndexError:\n",
        "  print('Index given out of bounds!')\n",
        "except ValueError:\n",
        "  print('Indexes must be int')\n",
        "else:\n",
        "  print('Item found!')\n",
        "finally:\n",
        "  print('This will always be displayed!')"
      ],
      "metadata": {
        "colab": {
          "base_uri": "https://localhost:8080/"
        },
        "id": "nlv4zFlCINN2",
        "outputId": "ca8e5795-60c5-4008-8678-c3cfa722bb19"
      },
      "execution_count": 5,
      "outputs": [
        {
          "output_type": "stream",
          "name": "stdout",
          "text": [
            "Enter an index: hhhh\n",
            "Indexes must be int\n",
            "This will always be displayed!\n"
          ]
        }
      ]
    },
    {
      "cell_type": "code",
      "source": [
        "def avg(alist):\n",
        "  try:\n",
        "    return sum(alist) / len(alist)\n",
        "  except ZeroDivisionError:\n",
        "    print('The list is empty!')\n",
        "    return []\n",
        "  except TypeError:\n",
        "    print('The list must be numeric-only!')\n",
        "    return float('nan')\n",
        "\n",
        "a = avg([])\n",
        "print(a)"
      ],
      "metadata": {
        "colab": {
          "base_uri": "https://localhost:8080/"
        },
        "id": "r4flMiOPUoeB",
        "outputId": "1394d36b-1a87-4fae-8219-5b2fea199d69"
      },
      "execution_count": 3,
      "outputs": [
        {
          "output_type": "stream",
          "name": "stdout",
          "text": [
            "The list is empty!\n",
            "[]\n"
          ]
        }
      ]
    },
    {
      "cell_type": "code",
      "source": [],
      "metadata": {
        "id": "2uUZ_dQPXnT7"
      },
      "execution_count": null,
      "outputs": []
    }
  ]
}