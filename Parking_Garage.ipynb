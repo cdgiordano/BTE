{
  "nbformat": 4,
  "nbformat_minor": 0,
  "metadata": {
    "colab": {
      "provenance": [],
      "authorship_tag": "ABX9TyMid8G6cisdYAqGEreuTlYB",
      "include_colab_link": true
    },
    "kernelspec": {
      "name": "python3",
      "display_name": "Python 3"
    },
    "language_info": {
      "name": "python"
    }
  },
  "cells": [
    {
      "cell_type": "markdown",
      "metadata": {
        "id": "view-in-github",
        "colab_type": "text"
      },
      "source": [
        "<a href=\"https://colab.research.google.com/github/cdgiordano/BTE/blob/main/Parking_Garage.ipynb\" target=\"_parent\"><img src=\"https://colab.research.google.com/assets/colab-badge.svg\" alt=\"Open In Colab\"/></a>"
      ]
    },
    {
      "cell_type": "code",
      "execution_count": null,
      "metadata": {
        "id": "Ast7UGcB3Lgy"
      },
      "outputs": [],
      "source": [
        "for x in range(1, 9):\n",
        "  fee = 5 + 2.5 * x\n",
        "  if fee <= 10:\n",
        "      fee = 10\n",
        "  elif fee >= 20:\n",
        "    fee = 20\n",
        "  print(x, fee)"
      ]
    }
  ]
}