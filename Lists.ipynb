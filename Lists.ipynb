# List Creator is at the bottom of page

{
  "nbformat": 4,
  "nbformat_minor": 0,
  "metadata": {
    "colab": {
      "provenance": [],
      "authorship_tag": "ABX9TyNmcKGBB1/9pngZSNYmAwMb",
      "include_colab_link": true
    },
    "kernelspec": {
      "name": "python3",
      "display_name": "Python 3"
    },
    "language_info": {
      "name": "python"
    }
  },
  "cells": [
    {
      "cell_type": "markdown",
      "metadata": {
        "id": "view-in-github",
        "colab_type": "text"
      },
      "source": [
        "<a href=\"https://colab.research.google.com/github/cdgiordano/BTE/blob/main/Lists.ipynb\" target=\"_parent\"><img src=\"https://colab.research.google.com/assets/colab-badge.svg\" alt=\"Open In Colab\"/></a>"
      ]
    },
    {
      "cell_type": "code",
      "execution_count": null,
      "metadata": {
        "id": "lbwACoOrUJeO"
      },
      "outputs": [],
      "source": [
        "hello = 'Hello'\n",
        "space = ' '\n",
        "there = 'there'\n",
        "\n",
        "hello + space + there"
      ]
    },
    {
      "cell_type": "code",
      "source": [
        "2 * 'abc'"
      ],
      "metadata": {
        "id": "r70mPn82UORc"
      },
      "execution_count": null,
      "outputs": []
    },
    {
      "cell_type": "code",
      "source": [
        "'a' in 'abc'"
      ],
      "metadata": {
        "id": "r1uXX-xlUPRv"
      },
      "execution_count": null,
      "outputs": []
    },
    {
      "cell_type": "code",
      "source": [
        "s1 = 'abcdefg'\n",
        "s2 = 'abdght'\n",
        "\n",
        "for index in range(len(s1)):\n",
        "  if ...:\n",
        "    print(...)"
      ],
      "metadata": {
        "id": "FQj2DgsdUTPo"
      },
      "execution_count": null,
      "outputs": []
    },
    {
      "cell_type": "code",
      "source": [
        "L = [1, 'two', 3.14, print, [5, 7, 9]]\n",
        "len(L)"
      ],
      "metadata": {
        "id": "mDRWErI-UUJ3"
      },
      "execution_count": null,
      "outputs": []
    },
    {
      "cell_type": "code",
      "source": [
        "L + ['three', 9.99, 0]"
      ],
      "metadata": {
        "id": "hn69FOW5UVNd"
      },
      "execution_count": null,
      "outputs": []
    },
    {
      "cell_type": "code",
      "source": [
        "for item in L:\n",
        "  print(item)"
      ],
      "metadata": {
        "id": "SXsMFFc-UWkf"
      },
      "execution_count": null,
      "outputs": []
    },
    {
      "cell_type": "code",
      "source": [
        "L_outer = [[1, 2, 3], [4,5,6]]\n",
        "print(L_outer)\n",
        "1 = L_outer[1]\n",
        "print(1)\n",
        "1[0] = 7\n",
        "print[1]\n",
        "L_outer[1] = 1\n",
        "print(L_outer)"
      ],
      "metadata": {
        "id": "mv5ToChAUXtE"
      },
      "execution_count": null,
      "outputs": []
    },
    {
      "cell_type": "code",
      "source": [
        "L = []\n",
        "\n",
        "number = int(input('Enter a value: '))\n",
        "\n",
        "while number != 0:\n",
        "  L.append(number)\n",
        "  number = int(input('Enter a value: '))\n",
        "print(L)"
      ],
      "metadata": {
        "colab": {
          "base_uri": "https://localhost:8080/"
        },
        "id": "S5bf2h2GUY-L",
        "outputId": "8480d159-7d9a-429a-ec25-0a6e148f252e"
      },
      "execution_count": 3,
      "outputs": [
        {
          "output_type": "stream",
          "name": "stdout",
          "text": [
            "Enter a value: 5\n",
            "Enter a value: 10\n",
            "Enter a value: 2\n",
            "Enter a value: 0\n",
            "[5, 10, 2]\n"
          ]
        }
      ]
    }
  ]
}
