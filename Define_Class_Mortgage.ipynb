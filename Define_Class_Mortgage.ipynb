{
  "nbformat": 4,
  "nbformat_minor": 0,
  "metadata": {
    "colab": {
      "provenance": [],
      "authorship_tag": "ABX9TyOhbf21kPsB/tlcCOf7q+Os",
      "include_colab_link": true
    },
    "kernelspec": {
      "name": "python3",
      "display_name": "Python 3"
    },
    "language_info": {
      "name": "python"
    }
  },
  "cells": [
    {
      "cell_type": "markdown",
      "metadata": {
        "id": "view-in-github",
        "colab_type": "text"
      },
      "source": [
        "<a href=\"https://colab.research.google.com/github/cdgiordano/BTE/blob/main/Define_Class_Mortgage.ipynb\" target=\"_parent\"><img src=\"https://colab.research.google.com/assets/colab-badge.svg\" alt=\"Open In Colab\"/></a>"
      ]
    },
    {
      "cell_type": "code",
      "source": [
        "class Mortgage:\n",
        "    def __init__(self, initial_loan, term_years, annual_rate):\n",
        "        self.initial_loan = initial_loan\n",
        "        self.term_months = term_years * 12\n",
        "        self.monthly_rate = annual_rate / 100 / 12\n",
        "\n",
        "    def calculate_monthly_payment(self):\n",
        "        B = self.initial_loan\n",
        "        n = self.term_months\n",
        "        r = self.monthly_rate\n",
        "\n",
        "        if r == 0:\n",
        "            return B / n\n",
        "        else:\n",
        "            monthly_payment = B * (r * (1 + r) ** n) / ((1 + r) ** n - 1)\n",
        "            return monthly_payment\n",
        "\n",
        "mortgage = Mortgage(100000, 30, 6)\n",
        "monthly_payment = mortgage.calculate_monthly_payment()\n",
        "print(f\"The monthly mortgage payment is: ${monthly_payment:.2f}\")\n"
      ],
      "metadata": {
        "colab": {
          "base_uri": "https://localhost:8080/"
        },
        "id": "K5QNLLO2r54j",
        "outputId": "60096162-c716-4ed3-de50-55f3e9418d93"
      },
      "execution_count": null,
      "outputs": [
        {
          "output_type": "stream",
          "name": "stdout",
          "text": [
            "The monthly mortgage payment is: $599.55\n"
          ]
        }
      ]
    },
    {
      "cell_type": "code",
      "source": [
        "class A:\n",
        "  def __init__(self, item):\n",
        "    self.item = item\n",
        "  def whoAmI(self):\n",
        "    print('I am an instance of class A')\n",
        "  def __str__(self):\n",
        "    return f'item: {self.item}'\n",
        "  def __add__(self, other):\n",
        "    return self.item + other.item\n",
        "\n",
        "class B:\n",
        "  def __init__(self, item):\n",
        "    self.item = item\n",
        "  def whoAmI(self):\n",
        "    print('I am an instance of class B')\n",
        "\n",
        "a1 = A(2)\n",
        "a2 = A(5)\n",
        "b = B(3)\n",
        "\n"
      ],
      "metadata": {
        "id": "MkH3aOyVx9xU"
      },
      "execution_count": null,
      "outputs": []
    },
    {
      "cell_type": "code",
      "source": [
        "b.whoAmI()"
      ],
      "metadata": {
        "colab": {
          "base_uri": "https://localhost:8080/"
        },
        "id": "VunboASxJJoR",
        "outputId": "50493f19-e40c-49a3-be4e-4ad820f7e19a"
      },
      "execution_count": null,
      "outputs": [
        {
          "output_type": "stream",
          "name": "stdout",
          "text": [
            "I am an instance of class B\n"
          ]
        }
      ]
    },
    {
      "cell_type": "code",
      "source": [
        "print(a)"
      ],
      "metadata": {
        "colab": {
          "base_uri": "https://localhost:8080/"
        },
        "id": "NhGBZNZUJfWM",
        "outputId": "16ffcef6-5355-4351-b8d9-5618f1da0130"
      },
      "execution_count": null,
      "outputs": [
        {
          "output_type": "stream",
          "name": "stdout",
          "text": [
            "item: 2\n"
          ]
        }
      ]
    },
    {
      "cell_type": "code",
      "source": [],
      "metadata": {
        "colab": {
          "base_uri": "https://localhost:8080/",
          "height": 144
        },
        "id": "57v5JahHJioG",
        "outputId": "cb20550e-a2b0-4e6f-b3db-38d3773d8c97"
      },
      "execution_count": null,
      "outputs": [
        {
          "output_type": "error",
          "ename": "NameError",
          "evalue": "name 'a1' is not defined",
          "traceback": [
            "\u001b[0;31m---------------------------------------------------------------------------\u001b[0m",
            "\u001b[0;31mNameError\u001b[0m                                 Traceback (most recent call last)",
            "\u001b[0;32m<ipython-input-12-12c020227edc>\u001b[0m in \u001b[0;36m<cell line: 1>\u001b[0;34m()\u001b[0m\n\u001b[0;32m----> 1\u001b[0;31m \u001b[0mprint\u001b[0m\u001b[0;34m(\u001b[0m\u001b[0ma1\u001b[0m \u001b[0;34m+\u001b[0m \u001b[0ma2\u001b[0m\u001b[0;34m)\u001b[0m\u001b[0;34m\u001b[0m\u001b[0;34m\u001b[0m\u001b[0m\n\u001b[0m",
            "\u001b[0;31mNameError\u001b[0m: name 'a1' is not defined"
          ]
        }
      ]
    }
  ]
}