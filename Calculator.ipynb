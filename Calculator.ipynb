{
  "nbformat": 4,
  "nbformat_minor": 0,
  "metadata": {
    "colab": {
      "provenance": [],
      "authorship_tag": "ABX9TyOz2e6u+uSVlQcvksEizNAg",
      "include_colab_link": true
    },
    "kernelspec": {
      "name": "python3",
      "display_name": "Python 3"
    },
    "language_info": {
      "name": "python"
    }
  },
  "cells": [
    {
      "cell_type": "markdown",
      "metadata": {
        "id": "view-in-github",
        "colab_type": "text"
      },
      "source": [
        "<a href=\"https://colab.research.google.com/github/cdgiordano/BTE/blob/main/Calculator.ipynb\" target=\"_parent\"><img src=\"https://colab.research.google.com/assets/colab-badge.svg\" alt=\"Open In Colab\"/></a>"
      ]
    },
    {
      "cell_type": "code",
      "execution_count": 10,
      "metadata": {
        "colab": {
          "base_uri": "https://localhost:8080/"
        },
        "id": "fv0y4Bhq4cT2",
        "outputId": "dfc26c4e-1288-4054-f11c-56d852d4d35c"
      },
      "outputs": [
        {
          "output_type": "stream",
          "name": "stdout",
          "text": [
            "Enter the first number (or 'break' to exit): Break\n",
            "Exiting the calculator.\n"
          ]
        }
      ],
      "source": [
        "while True:\n",
        "        num1 = input(\"Enter the first number (or 'break' to exit): \")\n",
        "        if num1.lower() == 'break':\n",
        "            print(\"Exiting the calculator.\")\n",
        "            break\n",
        "        try:\n",
        "            num1 = float(num1)\n",
        "        except ValueError:\n",
        "            print(\"Invalid input. Please enter a number or 'break'.\")\n",
        "            continue\n",
        "\n",
        "        operator = input(\"Enter the operator (+, -, *, /, //, %, **): \")\n",
        "        if operator.lower() == 'break':\n",
        "            print(\"Exiting the calculator.\")\n",
        "            break\n",
        "        if operator not in ['+', '-', '*', '/', '//', '%', '**']:\n",
        "            print(\"Invalid operator.\")\n",
        "            continue\n",
        "\n",
        "        num2 = input(\"Enter the second number: \")\n",
        "        try:\n",
        "            num2 = float(num2)\n",
        "        except ValueError:\n",
        "            print(\"Invalid input. Please enter a number.\")\n",
        "            continue\n",
        "\n",
        "        if operator == '+':\n",
        "            result = num1 + num2\n",
        "        elif operator == '-':\n",
        "            result = num1 - num2\n",
        "        elif operator == '*':\n",
        "            result = num1 * num2\n",
        "        elif operator == '/':\n",
        "            if num2 == 0:\n",
        "                print(\"Error: Division by zero\")\n",
        "                continue\n",
        "            result = num1 / num2\n",
        "        elif operator == '//':\n",
        "            if num2 == 0:\n",
        "                print(\"Error: Division by zero\")\n",
        "                continue\n",
        "            result = num1 // num2\n",
        "        elif operator == '%':\n",
        "            if num2 == 0:\n",
        "                print(\"Error: You cannot divide by zero.\")\n",
        "                continue\n",
        "            result = num1 % num2\n",
        "        elif operator == '**':\n",
        "            result = num1 ** num2\n",
        "\n",
        "        print(\"Result:\", result)"
      ]
    },
    {
      "cell_type": "code",
      "source": [
        "while True:\n",
        "  num1 = input(\"Enter the first number (or 'break' to exit): \")\n",
        "  if num1.lower() == 'break':\n",
        "        print(\"Exiting the calculator.\")\n",
        "        break\n",
        "  try:\n",
        "        num1 = float(num1)\n",
        "  except ValueError:\n",
        "        print(\"Invalid input. Please enter a number or 'break'.\")\n",
        "        continue\n",
        "  operator = input('Enter the operator: ')\n",
        "  if operator.lower() == 'break':\n",
        "        print(\"Exiting the calculator.\")\n",
        "        break\n",
        "  if operator not in ['+', '-', '*', '/', '//', '%', '**']:\n",
        "        print(\"Invalid operator.\")\n",
        "        continue\n",
        "  num2 = float(input('Enter second value: '))\n",
        "\n",
        "  if operator == 'break':\n",
        "    break\n",
        "\n",
        "  if operator == '+':\n",
        "      result = num1 + num2\n",
        "  elif operator == '-':\n",
        "      result = num1 - num2\n",
        "  elif operator == '*':\n",
        "      result = num1 * num2\n",
        "  elif operator == '/':\n",
        "      if num2 == 0:\n",
        "          print(\"Error: Division by zero\")\n",
        "          continue\n",
        "      result = num1 / num2\n",
        "  elif operator == '//':\n",
        "      if num2 == 0:\n",
        "          print(\"Error: Division by zero\")\n",
        "          continue\n",
        "      result = num1 // num2\n",
        "  elif operator == '%':\n",
        "      if num2 == 0:\n",
        "          print(\"Error: You cannot divide by zero.\")\n",
        "          continue\n",
        "      result = num1 % num2\n",
        "  elif operator == '**':\n",
        "      result = num1 ** num2\n",
        "\n",
        "  print(\"Result:\", result)\n",
        "\n",
        "\n"
      ],
      "metadata": {
        "id": "1rv6H96E6Nps",
        "colab": {
          "base_uri": "https://localhost:8080/"
        },
        "outputId": "938cb660-1a63-4eef-957d-5205ee4025f3"
      },
      "execution_count": null,
      "outputs": [
        {
          "output_type": "stream",
          "name": "stdout",
          "text": [
            "Enter the first number (or 'break' to exit): 1\n",
            "Enter the operator: 6\n",
            "Invalid operator.\n",
            "Enter the first number (or 'break' to exit): 1\n",
            "Enter the operator: +\n",
            "Enter second value: 3\n",
            "Result: 4.0\n"
          ]
        }
      ]
    }
  ]
}